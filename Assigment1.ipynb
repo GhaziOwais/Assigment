# Assigment
print ("Name : Ghazi Nedal Ghazi Owais")
print ("ID : 112698")
print ("My Favorite Quote : First learn computer science and all the theory. Next develop a programming style. Then forget all that and just hack.")
input('Press ENTER to exit')
